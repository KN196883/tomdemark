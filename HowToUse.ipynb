{
 "cells": [
  {
   "cell_type": "markdown",
   "metadata": {
    "toc": true
   },
   "source": [
    "<h1>Table of Contents<span class=\"tocSkip\"></span></h1>\n",
    "<div class=\"toc\"><ul class=\"toc-item\"><li><span><a href=\"#ほしいプロダクトのidを取得する\" data-toc-modified-id=\"ほしいプロダクトのidを取得する-1\"><span class=\"toc-item-num\">1&nbsp;&nbsp;</span>ほしいプロダクトのidを取得する</a></span></li><li><span><a href=\"#TYの1年間の四本値を取得\" data-toc-modified-id=\"TYの1年間の四本値を取得-2\"><span class=\"toc-item-num\">2&nbsp;&nbsp;</span>TYの1年間の四本値を取得</a></span></li><li><span><a href=\"#TD-sequentialの取得\" data-toc-modified-id=\"TD-sequentialの取得-3\"><span class=\"toc-item-num\">3&nbsp;&nbsp;</span>TD sequentialの取得</a></span><ul class=\"toc-item\"><li><span><a href=\"#まずは1個\" data-toc-modified-id=\"まずは1個-3.1\"><span class=\"toc-item-num\">3.1&nbsp;&nbsp;</span>まずは1個</a></span></li><li><span><a href=\"#複数\" data-toc-modified-id=\"複数-3.2\"><span class=\"toc-item-num\">3.2&nbsp;&nbsp;</span>複数</a></span></li></ul></li></ul></div>"
   ]
  },
  {
   "cell_type": "code",
   "execution_count": 1,
   "metadata": {
    "ExecuteTime": {
     "end_time": "2021-03-09T14:30:31.761514Z",
     "start_time": "2021-03-09T14:30:30.744836Z"
    }
   },
   "outputs": [],
   "source": [
    "import numpy as np\n",
    "import pandas as pd\n",
    "import matplotlib.pyplot as plt\n",
    "from datetime import datetime, timedelta"
   ]
  },
  {
   "cell_type": "code",
   "execution_count": 2,
   "metadata": {
    "ExecuteTime": {
     "end_time": "2021-03-09T14:30:33.225877Z",
     "start_time": "2021-03-09T14:30:31.765695Z"
    }
   },
   "outputs": [],
   "source": [
    "### Google Colab上で実行する場合は、\n",
    "### tomdemark.pyからget_tdsequential, plot_tdseqを、\n",
    "### investingcom_scraper.pyからget_historicalを、\n",
    "### それぞれコピペ\n",
    "\n",
    "from tomdemark import get_tdsequential, plot_tdseq\n",
    "from investingcom_scraper import get_historical"
   ]
  },
  {
   "cell_type": "markdown",
   "metadata": {},
   "source": [
    "# ほしいプロダクトのidを取得する\n",
    "`investing.com`から四本値を取得するために、`investing.com`上の`id`を指定する必要があるので、それを探す\n",
    "\n",
    "`id`がすでにわかっている場合は、ここを飛ばすことができる"
   ]
  },
  {
   "cell_type": "code",
   "execution_count": 3,
   "metadata": {
    "ExecuteTime": {
     "end_time": "2021-03-09T14:30:33.241244Z",
     "start_time": "2021-03-09T14:30:33.228409Z"
    }
   },
   "outputs": [],
   "source": [
    "### Google Colab上で実行する場合は、\n",
    "### investingcom_scraper.pyからsearch_id_candidatesを、\n",
    "### コピペ\n",
    "\n",
    "from investingcom_scraper import search_id_candidates"
   ]
  },
  {
   "cell_type": "markdown",
   "metadata": {},
   "source": [
    "`search_id_candidates('クエリ')`で、ほしいプロダクトを検索できる"
   ]
  },
  {
   "cell_type": "code",
   "execution_count": 4,
   "metadata": {
    "ExecuteTime": {
     "end_time": "2021-03-09T14:30:34.134219Z",
     "start_time": "2021-03-09T14:30:33.269618Z"
    }
   },
   "outputs": [
    {
     "name": "stdout",
     "output_type": "stream",
     "text": [
      "8880 +++ TY +++ US 10 Year T-Note Futures\n",
      "958107 +++ TYVIX +++ CBOE/CBOT 10-year US Treasury Note Volatility\n"
     ]
    },
    {
     "data": {
      "text/plain": [
       "[<investpy.utils.search_obj.SearchObj at 0x7ffe7c75c8d0>,\n",
       " <investpy.utils.search_obj.SearchObj at 0x7ffe7c75c908>]"
      ]
     },
     "execution_count": 4,
     "metadata": {},
     "output_type": "execute_result"
    }
   ],
   "source": [
    "search_id_candidates('US 10 year T Note')"
   ]
  },
  {
   "cell_type": "markdown",
   "metadata": {},
   "source": [
    "これで、TYの`id`は`8880`であることがわかる"
   ]
  },
  {
   "cell_type": "markdown",
   "metadata": {},
   "source": [
    "# TYの1年間の四本値を取得"
   ]
  },
  {
   "cell_type": "code",
   "execution_count": 6,
   "metadata": {
    "ExecuteTime": {
     "end_time": "2021-03-09T14:30:37.007777Z",
     "start_time": "2021-03-09T14:30:34.752815Z"
    }
   },
   "outputs": [],
   "source": [
    "df_ex_weekend = get_historical(\n",
    "    id_=8880,\n",
    "    from_date=datetime(2020, 3, 9),\n",
    "    to_date=datetime(2021, 3, 9),\n",
    "    force_exclude_weekend=True\n",
    ")\n",
    "\n",
    "df_in_weekend = get_historical(\n",
    "    id_=8880,\n",
    "    from_date=datetime(2020, 3, 9),\n",
    "    to_date=datetime(2021, 3, 9),\n",
    "    force_exclude_weekend=False\n",
    ")"
   ]
  },
  {
   "cell_type": "code",
   "execution_count": 7,
   "metadata": {
    "ExecuteTime": {
     "end_time": "2021-03-09T14:30:37.081289Z",
     "start_time": "2021-03-09T14:30:37.021550Z"
    },
    "scrolled": true
   },
   "outputs": [
    {
     "data": {
      "text/html": [
       "<div>\n",
       "<style scoped>\n",
       "    .dataframe tbody tr th:only-of-type {\n",
       "        vertical-align: middle;\n",
       "    }\n",
       "\n",
       "    .dataframe tbody tr th {\n",
       "        vertical-align: top;\n",
       "    }\n",
       "\n",
       "    .dataframe thead th {\n",
       "        text-align: right;\n",
       "    }\n",
       "</style>\n",
       "<table border=\"1\" class=\"dataframe\">\n",
       "  <thead>\n",
       "    <tr style=\"text-align: right;\">\n",
       "      <th></th>\n",
       "      <th>Date</th>\n",
       "      <th>Open</th>\n",
       "      <th>High</th>\n",
       "      <th>Low</th>\n",
       "      <th>Close</th>\n",
       "    </tr>\n",
       "  </thead>\n",
       "  <tbody>\n",
       "    <tr>\n",
       "      <th>4</th>\n",
       "      <td>2021-03-03</td>\n",
       "      <td>134.73</td>\n",
       "      <td>134.73</td>\n",
       "      <td>133.95</td>\n",
       "      <td>134.14</td>\n",
       "    </tr>\n",
       "    <tr>\n",
       "      <th>3</th>\n",
       "      <td>2021-03-04</td>\n",
       "      <td>134.06</td>\n",
       "      <td>134.28</td>\n",
       "      <td>133.48</td>\n",
       "      <td>133.50</td>\n",
       "    </tr>\n",
       "    <tr>\n",
       "      <th>2</th>\n",
       "      <td>2021-03-05</td>\n",
       "      <td>133.44</td>\n",
       "      <td>133.63</td>\n",
       "      <td>132.88</td>\n",
       "      <td>133.45</td>\n",
       "    </tr>\n",
       "    <tr>\n",
       "      <th>1</th>\n",
       "      <td>2021-03-08</td>\n",
       "      <td>133.14</td>\n",
       "      <td>133.22</td>\n",
       "      <td>132.94</td>\n",
       "      <td>132.98</td>\n",
       "    </tr>\n",
       "    <tr>\n",
       "      <th>0</th>\n",
       "      <td>2021-03-09</td>\n",
       "      <td>131.90</td>\n",
       "      <td>132.38</td>\n",
       "      <td>131.87</td>\n",
       "      <td>132.26</td>\n",
       "    </tr>\n",
       "  </tbody>\n",
       "</table>\n",
       "</div>"
      ],
      "text/plain": [
       "        Date    Open    High     Low   Close\n",
       "4 2021-03-03  134.73  134.73  133.95  134.14\n",
       "3 2021-03-04  134.06  134.28  133.48  133.50\n",
       "2 2021-03-05  133.44  133.63  132.88  133.45\n",
       "1 2021-03-08  133.14  133.22  132.94  132.98\n",
       "0 2021-03-09  131.90  132.38  131.87  132.26"
      ]
     },
     "execution_count": 7,
     "metadata": {},
     "output_type": "execute_result"
    }
   ],
   "source": [
    "df_ex_weekend.tail()"
   ]
  },
  {
   "cell_type": "markdown",
   "metadata": {},
   "source": [
    "休日を強制排除する"
   ]
  },
  {
   "cell_type": "code",
   "execution_count": 8,
   "metadata": {
    "ExecuteTime": {
     "end_time": "2021-03-09T14:30:37.235333Z",
     "start_time": "2021-03-09T14:30:37.109561Z"
    }
   },
   "outputs": [
    {
     "name": "stdout",
     "output_type": "stream",
     "text": [
      "261\n",
      "265\n"
     ]
    }
   ],
   "source": [
    "print(len(df_ex_weekend))\n",
    "print(len(df_in_weekend))"
   ]
  },
  {
   "cell_type": "code",
   "execution_count": 9,
   "metadata": {
    "ExecuteTime": {
     "end_time": "2021-03-09T14:30:37.295568Z",
     "start_time": "2021-03-09T14:30:37.256137Z"
    }
   },
   "outputs": [
    {
     "name": "stdout",
     "output_type": "stream",
     "text": [
      "除かれた日\n"
     ]
    },
    {
     "data": {
      "text/plain": [
       "{Timestamp('2020-05-24 00:00:00'),\n",
       " Timestamp('2020-09-06 00:00:00'),\n",
       " Timestamp('2021-01-17 00:00:00'),\n",
       " Timestamp('2021-02-14 00:00:00')}"
      ]
     },
     "execution_count": 9,
     "metadata": {},
     "output_type": "execute_result"
    }
   ],
   "source": [
    "print('除かれた日')\n",
    "set(df_in_weekend['Date']) - set(df_ex_weekend['Date'])"
   ]
  },
  {
   "cell_type": "markdown",
   "metadata": {},
   "source": [
    "# TD sequentialの取得"
   ]
  },
  {
   "cell_type": "markdown",
   "metadata": {},
   "source": [
    "## まずは1個"
   ]
  },
  {
   "cell_type": "code",
   "execution_count": null,
   "metadata": {
    "ExecuteTime": {
     "end_time": "2021-03-09T14:31:15.333832Z",
     "start_time": "2021-03-09T14:31:07.728754Z"
    }
   },
   "outputs": [],
   "source": [
    "name, invcom_id = 'TY', 8880\n",
    "\n",
    "df = get_historical(\n",
    "    id_=invcom_id,\n",
    "    from_date=datetime(2020, 9, 9),\n",
    "    to_date=datetime(2021, 3, 9),\n",
    "    force_exclude_weekend=True,\n",
    "    dateCol_be_str=True\n",
    ")\n",
    "t, o, h, l, c, shortVal, longVal, sellVal, buyVal = get_tdsequential(df)\n",
    "plot_tdseq(t, o, h, l, c, shortVal, longVal, sellVal, buyVal, \n",
    "           ylabel=name, figshow=True)"
   ]
  },
  {
   "cell_type": "markdown",
   "metadata": {},
   "source": [
    "## 複数"
   ]
  },
  {
   "cell_type": "code",
   "execution_count": null,
   "metadata": {
    "ExecuteTime": {
     "end_time": "2021-03-09T14:24:10.506996Z",
     "start_time": "2021-03-09T14:24:10.472234Z"
    }
   },
   "outputs": [],
   "source": [
    "wanted_investingcom_ids = {\n",
    "    'US': 8907,\n",
    "    'TY': 8880,\n",
    "    'FV': 8905,\n",
    "    'TU': 8906,\n",
    "    'Buxl': 40739,\n",
    "    'Bund': 8895,\n",
    "    'Bobl': 8899,\n",
    "    'Schatz': 8900,\n",
    "    'OAT': 28719,\n",
    "    'Gilt': 8886,\n",
    "    'Spread_US02_US10': 1141794,\n",
    "    'JGB_Futures': 8986,\n",
    "    'S&P500_Futures': 8839,\n",
    "    'Nikkei_Futures': 1097727,\n",
    "    'USDJPY': 3,\n",
    "    'EURUSD': 1,\n",
    "    'USDCNH': 961728\n",
    "    }"
   ]
  },
  {
   "cell_type": "code",
   "execution_count": null,
   "metadata": {
    "ExecuteTime": {
     "start_time": "2021-03-09T14:25:02.040Z"
    },
    "scrolled": false
   },
   "outputs": [],
   "source": [
    "for name, invcom_id in wanted_investingcom_ids.items():\n",
    "    df = get_historical(\n",
    "        id_=invcom_id,\n",
    "        from_date=datetime(2020, 9, 9),\n",
    "        to_date=datetime(2021, 3, 9),\n",
    "        force_exclude_weekend=True,\n",
    "        dateCol_be_str=True\n",
    "    )\n",
    "    t, o, h, l, c, shortVal, longVal, sellVal, buyVal = get_tdsequential(df)\n",
    "    plot_tdseq(t, o, h, l, c, shortVal, longVal, sellVal, buyVal, \n",
    "               ylabel=name, figshow=True)"
   ]
  },
  {
   "cell_type": "code",
   "execution_count": null,
   "metadata": {},
   "outputs": [],
   "source": []
  }
 ],
 "metadata": {
  "kernelspec": {
   "display_name": "Python 3",
   "language": "python",
   "name": "python3"
  },
  "language_info": {
   "codemirror_mode": {
    "name": "ipython",
    "version": 3
   },
   "file_extension": ".py",
   "mimetype": "text/x-python",
   "name": "python",
   "nbconvert_exporter": "python",
   "pygments_lexer": "ipython3",
   "version": "3.7.1"
  },
  "toc": {
   "base_numbering": 1,
   "nav_menu": {},
   "number_sections": true,
   "sideBar": true,
   "skip_h1_title": false,
   "title_cell": "Table of Contents",
   "title_sidebar": "Contents",
   "toc_cell": true,
   "toc_position": {},
   "toc_section_display": true,
   "toc_window_display": true
  }
 },
 "nbformat": 4,
 "nbformat_minor": 2
}
